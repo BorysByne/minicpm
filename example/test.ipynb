{
 "cells": [
  {
   "cell_type": "markdown",
   "metadata": {},
   "source": [
    "# MiniCPM API Query Example\n",
    "\n",
    "This notebook demonstrates how to use the MiniCPM API with two images."
   ]
  },
  {
   "cell_type": "code",
   "execution_count": 2,
   "metadata": {},
   "outputs": [],
   "source": [
    "import requests\n",
    "import base64\n",
    "import json\n",
    "from PIL import Image\n",
    "import io"
   ]
  },
  {
   "cell_type": "markdown",
   "metadata": {},
   "source": [
    "## Prepare the images"
   ]
  },
  {
   "cell_type": "code",
   "execution_count": 33,
   "metadata": {},
   "outputs": [],
   "source": [
    "def image_to_base64(image_path):\n",
    "    with Image.open(image_path) as img:\n",
    "        img = img.convert('RGB')\n",
    "        buffered = io.BytesIO()\n",
    "        img.save(buffered, format=\"PNG\")\n",
    "        return base64.b64encode(buffered.getvalue()).decode('utf-8')\n",
    "\n",
    "# Replace these with the paths to your actual images\n",
    "image1_path = \"test_images/adxl.png\"\n",
    "image2_path = \"test_images/adxl1.png\"\n",
    "\n",
    "image1_base64 = image_to_base64(image1_path)\n",
    "image2_base64 = image_to_base64(image2_path)"
   ]
  },
  {
   "cell_type": "markdown",
   "metadata": {},
   "source": [
    "## Prepare the API request"
   ]
  },
  {
   "cell_type": "code",
   "execution_count": 38,
   "metadata": {},
   "outputs": [],
   "source": [
    "api_url = \"http://127.0.0.1:8001/v1/chat/completions\"  # Update this if your API is hosted elsewhere\n",
    "\n",
    "payload = {\n",
    "    \"model\": \"MiniCPM-V-2_6\",  # This might not be used by your API, but included for compatibility\n",
    "    \"temperature\": 0.1,\n",
    "    \"messages\": [\n",
    "        {\n",
    "          \"role\":\"system\",\n",
    "          \"content\":\"You are a good engineer\"\n",
    "        },\n",
    "        {\n",
    "            \"role\": \"user\",\n",
    "            \"content\": [\n",
    "                {\n",
    "                    \"type\": \"image_url\",\n",
    "                    \"image_url\": {\n",
    "                        \"url\": f\"data:image/png;base64,{image1_base64}\"\n",
    "                    }\n",
    "                },\n",
    "                {\n",
    "                    \"type\": \"image_url\",\n",
    "                    \"image_url\": {\n",
    "                        \"url\": f\"data:image/png;base64,{image2_base64}\"\n",
    "                    }\n",
    "                },\n",
    "                {\n",
    "                    \"type\": \"text\",\n",
    "                    \"text\": \"Compare image 1 and image 2, tell me about the differences between them. Format your response in JSON.\"\n",
    "                }\n",
    "            ]\n",
    "        }\n",
    "    ],\n",
    "    \"seed\": 4,\n",
    "    \"response_format\": {\n",
    "        \"type\": \"json_object\"\n",
    "    },\n",
    "    \"max_tokens\": 4095\n",
    "}"
   ]
  },
  {
   "cell_type": "markdown",
   "metadata": {},
   "source": [
    "## Send the API request"
   ]
  },
  {
   "cell_type": "code",
   "execution_count": 39,
   "metadata": {},
   "outputs": [
    {
     "name": "stdout",
     "output_type": "stream",
     "text": [
      "{\n",
      "  \"id\": \"7a247d6e-4d3b-4b77-a083-b525c664be58\",\n",
      "  \"choices\": [\n",
      "    {\n",
      "      \"finish_reason\": \"stop\",\n",
      "      \"index\": 0,\n",
      "      \"message\": {\n",
      "        \"content\": \"Based on the provided images, here are the differences between image 1 and image 2:\\n\\n1. **Page Number**:\\n   - Image 1: Page number is not visible.\\n   - Image 2: Page number \\\"4 of 36\\\" is visible at the bottom right corner.\\n\\n2. **Content Differences**:\\n   - The content in both images appears to be identical with respect to text and layout. There are no visible changes or additions in the textual information presented in both images.\\n\\n3. **Footer Information**:\\n   - Both images have a footer that includes the website \\\"analog.com\\\".\\n   - Both images have a revision control note \\\"Rev. G\\\".\\n\\nIn summary, the primary difference between the two images is the visibility of the page number in image 2, which indicates it is part of a larger document (36 pages).\",\n",
      "        \"refusal\": null,\n",
      "        \"tool_calls\": null,\n",
      "        \"role\": \"assistant\",\n",
      "        \"function_call\": null\n",
      "      },\n",
      "      \"logprobs\": null\n",
      "    }\n",
      "  ],\n",
      "  \"model\": \"MiniCPM-V-2_6\"\n",
      "}\n"
     ]
    }
   ],
   "source": [
    "response = requests.post(api_url, json=payload)\n",
    "\n",
    "if response.status_code == 200:\n",
    "    result = response.json()\n",
    "    print(json.dumps(result, indent=2))\n",
    "else:\n",
    "    print(f\"Error: {response.status_code}\")\n",
    "    print(response.text)"
   ]
  },
  {
   "cell_type": "markdown",
   "metadata": {},
   "source": [
    "## Parse and display the result"
   ]
  },
  {
   "cell_type": "code",
   "execution_count": null,
   "metadata": {},
   "outputs": [],
   "source": [
    "if response.status_code == 200:\n",
    "    result = response.json()\n",
    "    if 'response' in result:\n",
    "        try:\n",
    "            parsed_response = json.loads(result['response'])\n",
    "            print(json.dumps(parsed_response, indent=2))\n",
    "        except json.JSONDecodeError:\n",
    "            print(\"The response is not in valid JSON format:\")\n",
    "            print(result['response'])\n",
    "    else:\n",
    "        print(\"Unexpected response format:\")\n",
    "        print(json.dumps(result, indent=2))"
   ]
  }
 ],
 "metadata": {
  "interpreter": {
   "hash": "31f2aee4e71d21fbe5cf8b01ff0e069b9275f58929596ceb00d14d90e3e16cd6"
  },
  "kernelspec": {
   "display_name": "Python 3 (ipykernel)",
   "language": "python",
   "name": "python3"
  },
  "language_info": {
   "codemirror_mode": {
    "name": "ipython",
    "version": 3
   },
   "file_extension": ".py",
   "mimetype": "text/x-python",
   "name": "python",
   "nbconvert_exporter": "python",
   "pygments_lexer": "ipython3",
   "version": "3.12.3"
  }
 },
 "nbformat": 4,
 "nbformat_minor": 4
}
